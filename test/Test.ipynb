{
 "cells": [
  {
   "cell_type": "code",
   "execution_count": 1,
   "metadata": {},
   "outputs": [],
   "source": [
    "%reload_ext autoreload\n",
    "%autoreload 2"
   ]
  },
  {
   "cell_type": "code",
   "execution_count": 1,
   "metadata": {},
   "outputs": [
    {
     "data": {
      "text/plain": [
       "6"
      ]
     },
     "execution_count": 1,
     "metadata": {},
     "output_type": "execute_result"
    }
   ],
   "source": [
    "import random\n",
    "\n",
    "a = random.randint(1,10)\n",
    "a"
   ]
  },
  {
   "cell_type": "code",
   "execution_count": 2,
   "metadata": {},
   "outputs": [
    {
     "name": "stdout",
     "output_type": "stream",
     "text": [
      "1 0.55\n"
     ]
    }
   ],
   "source": [
    "from abc import ABC, abstractmethod\n",
    "\n",
    "\n",
    "class Trigger(ABC):\n",
    "    @abstractmethod\n",
    "    def __call__(self, cluster, clock):\n",
    "        pass\n",
    "\n",
    "\n",
    "class ThresholdTrigger(Trigger):\n",
    "    def __call__(self, cluster, clock, cpu_threshold=0.55, memory_threshold=0.55, disk_threshold=0.55):\n",
    "        print(cluster,disk_threshold)\n",
    "\n",
    "triger = ThresholdTrigger()\n",
    "triger('1',2)"
   ]
  },
  {
   "cell_type": "code",
   "execution_count": 3,
   "metadata": {},
   "outputs": [
    {
     "name": "stdout",
     "output_type": "stream",
     "text": [
      "1,next random in 1-10 is7\n",
      "2,next random in 1-10 is10\n",
      "3,next random in 1-10 is8\n",
      "4,next random in 1-10 is3\n",
      "5,next random in 1-10 is1\n",
      "6,next random in 1-10 is3\n",
      "7,next random in 1-10 is7\n",
      "8,next random in 1-10 is7\n",
      "9,next random in 1-10 is7\n"
     ]
    }
   ],
   "source": [
    "import random as rd\n",
    "for i in  range(1,10):\n",
    "    next = rd.randint(1,10)\n",
    "    print(f'{i},next random in 1-10 is{next}')\n"
   ]
  },
  {
   "cell_type": "code",
   "execution_count": 3,
   "metadata": {},
   "outputs": [
    {
     "name": "stdout",
     "output_type": "stream",
     "text": [
      "/hdd/lsh\n"
     ]
    }
   ],
   "source": [
    "import sys\n",
    "import os\n",
    "print(os.getcwd())"
   ]
  },
  {
   "cell_type": "markdown",
   "metadata": {},
   "source": [
    "## 测试添加machine"
   ]
  },
  {
   "cell_type": "code",
   "execution_count": 4,
   "metadata": {},
   "outputs": [
    {
     "name": "stdout",
     "output_type": "stream",
     "text": [
      "mac:  [0, 1, 2, 3, 4, 5, 6, 7, 8, 9, 10, 11, 12, 13, 14]\n"
     ]
    },
    {
     "ename": "KeyError",
     "evalue": "0",
     "output_type": "error",
     "traceback": [
      "\u001b[0;31m---------------------------------------------------------------------------\u001b[0m",
      "\u001b[0;31mKeyError\u001b[0m                                  Traceback (most recent call last)",
      "\u001b[0;32m/tmp/ipykernel_50707/2114865226.py\u001b[0m in \u001b[0;36m<module>\u001b[0;34m\u001b[0m\n\u001b[1;32m     20\u001b[0m     \u001b[0mlinux_file\u001b[0m \u001b[0;34m=\u001b[0m \u001b[0;34m'Scheduler/resource/zero_hole/'\u001b[0m\u001b[0;34m\u001b[0m\u001b[0;34m\u001b[0m\u001b[0m\n\u001b[1;32m     21\u001b[0m     \u001b[0minstance_configs\u001b[0m \u001b[0;34m=\u001b[0m \u001b[0mInstanceConfigLoader\u001b[0m\u001b[0;34m(\u001b[0m\u001b[0mlinux_file\u001b[0m\u001b[0;34m,\u001b[0m\u001b[0minstance_number\u001b[0m\u001b[0;34m)\u001b[0m\u001b[0;34m\u001b[0m\u001b[0;34m\u001b[0m\u001b[0m\n\u001b[0;32m---> 22\u001b[0;31m     \u001b[0msim\u001b[0m \u001b[0;34m=\u001b[0m \u001b[0mSimulation\u001b[0m\u001b[0;34m(\u001b[0m\u001b[0mmachine_configs\u001b[0m\u001b[0;34m,\u001b[0m \u001b[0minstance_configs\u001b[0m\u001b[0;34m,\u001b[0m \u001b[0mThresholdTrigger\u001b[0m\u001b[0;34m(\u001b[0m\u001b[0;34m)\u001b[0m\u001b[0;34m,\u001b[0m \u001b[0mThresholdFirstFitAlgorithm\u001b[0m\u001b[0;34m(\u001b[0m\u001b[0;34m)\u001b[0m\u001b[0;34m)\u001b[0m\u001b[0;34m\u001b[0m\u001b[0;34m\u001b[0m\u001b[0m\n\u001b[0m\u001b[1;32m     23\u001b[0m     \u001b[0msim\u001b[0m\u001b[0;34m.\u001b[0m\u001b[0mrun\u001b[0m\u001b[0;34m(\u001b[0m\u001b[0;34m)\u001b[0m\u001b[0;34m\u001b[0m\u001b[0;34m\u001b[0m\u001b[0m\n\u001b[1;32m     24\u001b[0m \u001b[0;34m\u001b[0m\u001b[0m\n",
      "\u001b[0;32m/hdd/lsh/Scheduler/framework/simulation.py\u001b[0m in \u001b[0;36m__init__\u001b[0;34m(self, machine_configs, instance_configs, trigger, algorithm)\u001b[0m\n\u001b[1;32m     18\u001b[0m         self.instance_cpu_curves = {\n\u001b[1;32m     19\u001b[0m             \u001b[0mself\u001b[0m\u001b[0;34m.\u001b[0m\u001b[0mcluster\u001b[0m\u001b[0;34m.\u001b[0m\u001b[0mmachines\u001b[0m\u001b[0;34m[\u001b[0m\u001b[0minstance_config\u001b[0m\u001b[0;34m.\u001b[0m\u001b[0mmachine_id\u001b[0m\u001b[0;34m]\u001b[0m\u001b[0;34m.\u001b[0m\u001b[0minstances\u001b[0m\u001b[0;34m[\u001b[0m\u001b[0minstance_config\u001b[0m\u001b[0;34m.\u001b[0m\u001b[0mid\u001b[0m\u001b[0;34m]\u001b[0m\u001b[0;34m:\u001b[0m\u001b[0;34m\u001b[0m\u001b[0;34m\u001b[0m\u001b[0m\n\u001b[0;32m---> 20\u001b[0;31m                 \u001b[0minstance_config\u001b[0m\u001b[0;34m.\u001b[0m\u001b[0mcpu_curve\u001b[0m \u001b[0;32mfor\u001b[0m \u001b[0minstance_config\u001b[0m \u001b[0;32min\u001b[0m \u001b[0minstance_configs\u001b[0m\u001b[0;34m\u001b[0m\u001b[0;34m\u001b[0m\u001b[0m\n\u001b[0m\u001b[1;32m     21\u001b[0m         }\n\u001b[1;32m     22\u001b[0m         self.instance_memory_curves = {\n",
      "\u001b[0;32m/hdd/lsh/Scheduler/framework/simulation.py\u001b[0m in \u001b[0;36m<dictcomp>\u001b[0;34m(.0)\u001b[0m\n\u001b[1;32m     18\u001b[0m         self.instance_cpu_curves = {\n\u001b[1;32m     19\u001b[0m             \u001b[0mself\u001b[0m\u001b[0;34m.\u001b[0m\u001b[0mcluster\u001b[0m\u001b[0;34m.\u001b[0m\u001b[0mmachines\u001b[0m\u001b[0;34m[\u001b[0m\u001b[0minstance_config\u001b[0m\u001b[0;34m.\u001b[0m\u001b[0mmachine_id\u001b[0m\u001b[0;34m]\u001b[0m\u001b[0;34m.\u001b[0m\u001b[0minstances\u001b[0m\u001b[0;34m[\u001b[0m\u001b[0minstance_config\u001b[0m\u001b[0;34m.\u001b[0m\u001b[0mid\u001b[0m\u001b[0;34m]\u001b[0m\u001b[0;34m:\u001b[0m\u001b[0;34m\u001b[0m\u001b[0;34m\u001b[0m\u001b[0m\n\u001b[0;32m---> 20\u001b[0;31m                 \u001b[0minstance_config\u001b[0m\u001b[0;34m.\u001b[0m\u001b[0mcpu_curve\u001b[0m \u001b[0;32mfor\u001b[0m \u001b[0minstance_config\u001b[0m \u001b[0;32min\u001b[0m \u001b[0minstance_configs\u001b[0m\u001b[0;34m\u001b[0m\u001b[0;34m\u001b[0m\u001b[0m\n\u001b[0m\u001b[1;32m     21\u001b[0m         }\n\u001b[1;32m     22\u001b[0m         self.instance_memory_curves = {\n",
      "\u001b[0;31mKeyError\u001b[0m: 0"
     ]
    }
   ],
   "source": [
    "import json\n",
    "import sys\n",
    "sys.path.append('./Scheduler')\n",
    "from data.loader import InstanceConfigLoader\n",
    "from framework.algorithm import ThresholdFirstFitAlgorithm\n",
    "#from framework.instance import InstanceConfig\n",
    "from framework.machine import MachineConfig\n",
    "from framework.simulation import Simulation\n",
    "from framework.trigger import ThresholdTrigger\n",
    "\n",
    "if __name__ == '__main__':\n",
    "    instance_number = 20\n",
    "    machine_number = int(instance_number/2+instance_number/4)\n",
    "    machine_configs = []\n",
    "    for id in range(machine_number):\n",
    "        machine = MachineConfig(id,300,20,20)\n",
    "        machine_configs.append(machine)\n",
    "    macFile = '/Users/lsh/Documents/ecnuIcloud/Trace/alibaba_2018/intp_dir'\n",
    "    windowsFile = 'D:\\Data\\workplace\\ecnuicloud\\Traces\\intp_dir\\\\'\n",
    "    linux_file = '/hdd/sxy/Trace_alibaba2018/alibaba_2018/intp_dir'\n",
    "    instance_configs = InstanceConfigLoader(linux_file,instance_number)\n",
    "    sim = Simulation(machine_configs, instance_configs, ThresholdTrigger(), ThresholdFirstFitAlgorithm())\n",
    "    sim.run()\n",
    "\n",
    "    #print(sim.cluster.structure)\n",
    "    struct = sim.cluster.structure\n",
    "    filename = './struct.json'\n",
    "    with open(filename,'w') as file_job:\n",
    "        json.dump(struct,file_job)\n"
   ]
  },
  {
   "cell_type": "code",
   "execution_count": 25,
   "metadata": {},
   "outputs": [
    {
     "name": "stdout",
     "output_type": "stream",
     "text": [
      "machine id to schedule []\n",
      "instance id to schedule []\n"
     ]
    },
    {
     "ename": "TypeError",
     "evalue": "'NoneType' object is not iterable",
     "output_type": "error",
     "traceback": [
      "\u001b[1;31m---------------------------------------------------------------------------\u001b[0m",
      "\u001b[1;31mTypeError\u001b[0m                                 Traceback (most recent call last)",
      "\u001b[1;32m~\\AppData\\Local\\Temp/ipykernel_5156/8959475.py\u001b[0m in \u001b[0;36m<module>\u001b[1;34m\u001b[0m\n\u001b[0;32m     17\u001b[0m \u001b[1;31m#         instance_cpu_curve)\u001b[0m\u001b[1;33m\u001b[0m\u001b[1;33m\u001b[0m\u001b[0m\n\u001b[0;32m     18\u001b[0m \u001b[0malgorithm\u001b[0m \u001b[1;33m=\u001b[0m \u001b[0mThresholdFirstFitAlgorithm\u001b[0m\u001b[1;33m(\u001b[0m\u001b[1;33m)\u001b[0m\u001b[1;33m\u001b[0m\u001b[1;33m\u001b[0m\u001b[0m\n\u001b[1;32m---> 19\u001b[1;33m \u001b[0malgorithm\u001b[0m\u001b[1;33m(\u001b[0m\u001b[0mcluster\u001b[0m\u001b[1;33m,\u001b[0m\u001b[0menv\u001b[0m\u001b[1;33m)\u001b[0m\u001b[1;33m\u001b[0m\u001b[1;33m\u001b[0m\u001b[0m\n\u001b[0m",
      "\u001b[1;32md:\\Data\\workplace\\Github\\scheduler\\test\\..\\framework\\algorithm.py\u001b[0m in \u001b[0;36m__call__\u001b[1;34m(self, cluster, clock)\u001b[0m\n\u001b[0;32m     36\u001b[0m         \u001b[0minstances_to_reschedule\u001b[0m \u001b[1;33m=\u001b[0m \u001b[0mcluster\u001b[0m\u001b[1;33m.\u001b[0m\u001b[0minstances_to_reschedule\u001b[0m\u001b[1;33m\u001b[0m\u001b[1;33m\u001b[0m\u001b[0m\n\u001b[0;32m     37\u001b[0m         \u001b[1;32mfor\u001b[0m \u001b[0mmacid\u001b[0m\u001b[1;33m,\u001b[0m\u001b[0mmachine\u001b[0m \u001b[1;32min\u001b[0m \u001b[0mmachines\u001b[0m\u001b[1;33m.\u001b[0m\u001b[0mitems\u001b[0m\u001b[1;33m(\u001b[0m\u001b[1;33m)\u001b[0m\u001b[1;33m:\u001b[0m\u001b[1;33m\u001b[0m\u001b[1;33m\u001b[0m\u001b[0m\n\u001b[1;32m---> 38\u001b[1;33m             \u001b[1;32mfor\u001b[0m \u001b[0minst\u001b[0m \u001b[1;32min\u001b[0m \u001b[0minstances_to_reschedule\u001b[0m\u001b[1;33m:\u001b[0m\u001b[1;33m\u001b[0m\u001b[1;33m\u001b[0m\u001b[0m\n\u001b[0m\u001b[0;32m     39\u001b[0m                 \u001b[1;32mif\u001b[0m \u001b[0mmachine\u001b[0m\u001b[1;33m.\u001b[0m\u001b[0maccommodate_w\u001b[0m\u001b[1;33m(\u001b[0m\u001b[0minst\u001b[0m\u001b[1;33m)\u001b[0m\u001b[1;33m:\u001b[0m\u001b[1;33m\u001b[0m\u001b[1;33m\u001b[0m\u001b[0m\n\u001b[0;32m     40\u001b[0m                     \u001b[0mcandidate_machine\u001b[0m \u001b[1;33m=\u001b[0m \u001b[0mmachine\u001b[0m\u001b[1;33m\u001b[0m\u001b[1;33m\u001b[0m\u001b[0m\n",
      "\u001b[1;31mTypeError\u001b[0m: 'NoneType' object is not iterable"
     ]
    }
   ],
   "source": [
    "\n",
    "env = simpy.Environment()\n",
    "trigger = ThresholdTrigger()\n",
    "trigger(cluster,env)\n",
    "macid_to_schedule = []\n",
    "insid_to_schedule=[]\n",
    "for macid in cluster.machines_to_schedule:\n",
    "    macid_to_schedule.append(macid.id)\n",
    "\n",
    "instances_to_reschedule = [inst \\\n",
    "    for machine in cluster.machines_to_schedule \\\n",
    "        for inst in machine.instances.values()]\n",
    "        \n",
    "for ins in instances_to_reschedule:\n",
    "    insid_to_schedule.append(ins.id)\n",
    "print('machine id to schedule',macid_to_schedule)\n",
    "print('instance id to schedule',insid_to_schedule)\n",
    "# for instance, instance_cpu_curve in instance_cpu_curves.items():\n",
    "#     print(instance.id,f'next is its type {type(instance_cpu_curve)} cpus:',\\\n",
    "#         instance_cpu_curve)\n",
    "algorithm = ThresholdFirstFitAlgorithm()\n",
    "algorithm(cluster,env)"
   ]
  },
  {
   "cell_type": "markdown",
   "metadata": {},
   "source": [
    "## 其他python测试"
   ]
  },
  {
   "cell_type": "code",
   "execution_count": 25,
   "metadata": {},
   "outputs": [
    {
     "name": "stdout",
     "output_type": "stream",
     "text": [
      "change2 change2 change2\n"
     ]
    },
    {
     "data": {
      "text/plain": [
       "1"
      ]
     },
     "execution_count": 25,
     "metadata": {},
     "output_type": "execute_result"
    }
   ],
   "source": [
    "# python 类属性测试\n",
    "class A:\n",
    "    def __init__(self,name):\n",
    "        self.name = name\n",
    "    @property\n",
    "    def cpu(self):\n",
    "        return 2\n",
    "    @property\n",
    "    def test(self):\n",
    "        return self.cpu\n",
    "    def setName(self,name):\n",
    "        self.name = name\n",
    "    def algo(self):\n",
    "        return 1,2,3\n",
    "a,b,c =A('abc'),A('bcd'),A('eeee')\n",
    "demo = [a,b,c]\n",
    "for deo in demo:\n",
    "    deo.name = 'change2'\n",
    "print(a.name,b.name,c.name)\n",
    "ares = a.algo()\n",
    "ares[0]"
   ]
  },
  {
   "cell_type": "code",
   "execution_count": 23,
   "metadata": {},
   "outputs": [
    {
     "name": "stdout",
     "output_type": "stream",
     "text": [
      "lase:  {1: [1, 2, 3, 4], 2: [1, 2, 3, 4], 3: [1, 2, 3, 4], 4: [1, 2, 3, 4], 5: [1, 2, 3, 4], 6: [1, 2, 3, 4], 7: [1, 2, 3, 4]}\n",
      "next:\n",
      "new: {1: [1, 3, 4], 2: [1, 3, 4], 3: [1, 3, 4], 4: [1, 3, 4], 5: [1, 3, 4], 6: [1, 3, 4], 7: [1, 3, 4]}\n"
     ]
    },
    {
     "data": {
      "text/plain": [
       "[1, 3, 4]"
      ]
     },
     "execution_count": 23,
     "metadata": {},
     "output_type": "execute_result"
    }
   ],
   "source": [
    "#test dict remove list\n",
    "demo = {1:[1,2,3,4],\n",
    "2:[1,2,3,4],\n",
    "3:[1,2,3,4],\n",
    "4:[1,2,3,4],\n",
    "5:[1,2,3,4],\n",
    "6:[1,2,3,4],\n",
    "7:[1,2,3,4]}\n",
    "print('lase: ',demo)\n",
    "print('next:')\n",
    "for key,value in demo.items():\n",
    "    value.pop(1)\n",
    "    # print(value)\n",
    "    # demo[key]=value\n",
    "print('new:',demo)\n",
    "len(demo.items())\n",
    "demo.get(2,None)"
   ]
  },
  {
   "cell_type": "markdown",
   "metadata": {},
   "source": [
    "### 在for循环中remove"
   ]
  },
  {
   "cell_type": "code",
   "execution_count": null,
   "metadata": {},
   "outputs": [],
   "source": [
    "def sq(x):\n",
    "    return x*x\n",
    "\n",
    "map(sq,[y for y in range(10)])"
   ]
  },
  {
   "cell_type": "code",
   "execution_count": null,
   "metadata": {},
   "outputs": [],
   "source": [
    "# 字典排序测试\n",
    "machines = cluster.machines\n",
    "\n",
    "for k,v in machines.items():\n",
    "    print('old:',k,v.cpu)\n",
    "#对值排序\n",
    "machines = {k:v for k,v in sorted(machines.items(),key= lambda x:x[1].cpu,reverse=True)}\n",
    "for k,v in machines.items():\n",
    "    print(v.cpu)\n",
    "# machine_id = [ids for ids,cpu in machine_id_cpu.itms()]\n",
    "# print('after sort:',machine_id)\n"
   ]
  },
  {
   "cell_type": "code",
   "execution_count": 7,
   "metadata": {},
   "outputs": [
    {
     "name": "stdout",
     "output_type": "stream",
     "text": [
      "clear\n"
     ]
    }
   ],
   "source": [
    "# 集合添加 测试\n",
    "\n",
    "def mylist_toset(lists):\n",
    "    lists[0]=1000\n",
    "\n",
    "myset = set()\n",
    "mylist = list([100,2,3])\n",
    "myset.update(mylist)\n",
    "a = myset.pop()\n",
    "myset.clear()\n",
    "if myset:\n",
    "    print('22')\n",
    "else:\n",
    "    print('clear')"
   ]
  },
  {
   "cell_type": "code",
   "execution_count": 14,
   "metadata": {},
   "outputs": [
    {
     "name": "stdout",
     "output_type": "stream",
     "text": [
      "100 1 1\n"
     ]
    }
   ],
   "source": [
    "myset = set()\n",
    "mylist = list([100,2,3,1])\n",
    "myset.update(mylist)\n",
    "print(next(iter(mylist)),next(iter(myset)),next(iter(myset)))\n"
   ]
  },
  {
   "cell_type": "markdown",
   "metadata": {},
   "source": [
    "## 测试Main "
   ]
  },
  {
   "cell_type": "code",
   "execution_count": 2,
   "metadata": {},
   "outputs": [
    {
     "name": "stdout",
     "output_type": "stream",
     "text": [
      "mac:  [0, 1, 2, 3, 4, 5, 6, 7, 8, 9, 10, 11, 12, 13, 14]\n",
      "there is trigger , and macid is 6 and now is 30\n",
      "there is trigger , and macid is 12 and now is 30\n",
      "At 30 scheduler was triggered!\n",
      "Machines to schedule [12, 6]\n",
      "Instance to be scheduled: [4, 11, 2, 8]\n",
      "the number of instance left to seched 0\n",
      "At 32 scheduler was triggered!\n",
      "Machines to schedule [12, 6]\n",
      "Instance to be scheduled: [11, 8]\n",
      "the number of instance left to seched 0\n",
      "At 34 scheduler was triggered!\n",
      "Machines to schedule [12, 6]\n",
      "Instance to be scheduled: [11, 8]\n",
      "the number of instance left to seched 0\n",
      "At 36 scheduler was triggered!\n",
      "Machines to schedule [12, 6]\n",
      "Instance to be scheduled: [11, 8]\n",
      "the number of instance left to seched 0\n",
      "At 38 scheduler was triggered!\n",
      "Machines to schedule [12, 6]\n",
      "Instance to be scheduled: [11, 8, 8]\n",
      "the number of instance left to seched 0\n",
      "At 40 scheduler was triggered!\n",
      "Machines to schedule [12, 6]\n",
      "Instance to be scheduled: [11, 8, 8]\n",
      "the number of instance left to seched 0\n",
      "At 42 scheduler was triggered!\n",
      "Machines to schedule [12, 6]\n",
      "Instance to be scheduled: [11, 8, 8, 11]\n",
      "the number of instance left to seched 0\n",
      "there is trigger , and macid is 1 and now is 44\n",
      "At 44 scheduler was triggered!\n",
      "Machines to schedule [1, 12, 6]\n",
      "Instance to be scheduled: [14, 4, 11, 8, 8, 11]\n",
      "the number of instance left to seched 0\n",
      "there is trigger , and macid is 1 and now is 46\n",
      "there is trigger , and macid is 6 and now is 46\n",
      "At 46 scheduler was triggered!\n",
      "Machines to schedule [1, 12, 6]\n",
      "Instance to be scheduled: [4, 11, 8, 8, 11, 14, 4]\n"
     ]
    },
    {
     "ename": "AttributeError",
     "evalue": "'NoneType' object has no attribute 'to_schedule'",
     "output_type": "error",
     "traceback": [
      "\u001b[1;31m---------------------------------------------------------------------------\u001b[0m",
      "\u001b[1;31mAttributeError\u001b[0m                            Traceback (most recent call last)",
      "\u001b[1;32md:\\Data\\workplace\\Github\\scheduler\\test\\..\\framework\\scheduler.py\u001b[0m in \u001b[0;36mrun\u001b[1;34m(self)\u001b[0m\n\u001b[0;32m     80\u001b[0m                 \u001b[1;31m#logging.info(\"Machines to schedule\", [machine.id for machine in self.cluster.machines_to_schedule])\u001b[0m\u001b[1;33m\u001b[0m\u001b[1;33m\u001b[0m\u001b[0m\n\u001b[1;32m---> 81\u001b[1;33m                 \u001b[0mself\u001b[0m\u001b[1;33m.\u001b[0m\u001b[0mfind_candidates\u001b[0m\u001b[1;33m(\u001b[0m\u001b[1;33m)\u001b[0m\u001b[1;33m\u001b[0m\u001b[1;33m\u001b[0m\u001b[0m\n\u001b[0m\u001b[0;32m     82\u001b[0m                 \u001b[0mself\u001b[0m\u001b[1;33m.\u001b[0m\u001b[0mmake_decision\u001b[0m\u001b[1;33m(\u001b[0m\u001b[1;33m)\u001b[0m\u001b[1;33m\u001b[0m\u001b[1;33m\u001b[0m\u001b[0m\n",
      "\u001b[1;32md:\\Data\\workplace\\Github\\scheduler\\test\\..\\framework\\scheduler.py\u001b[0m in \u001b[0;36mfind_candidates\u001b[1;34m(self)\u001b[0m\n\u001b[0;32m     65\u001b[0m         \u001b[1;32mfor\u001b[0m \u001b[0minst\u001b[0m \u001b[1;32min\u001b[0m \u001b[0minstances_to_reschedule\u001b[0m\u001b[1;33m:\u001b[0m\u001b[1;33m\u001b[0m\u001b[1;33m\u001b[0m\u001b[0m\n\u001b[1;32m---> 66\u001b[1;33m             \u001b[1;32mif\u001b[0m \u001b[0minst\u001b[0m\u001b[1;33m.\u001b[0m\u001b[0mmachine\u001b[0m\u001b[1;33m.\u001b[0m\u001b[0mto_schedule\u001b[0m \u001b[1;33m:\u001b[0m\u001b[1;31m#and not self.simulation.trigger.isOverhead(inst.machine) :\u001b[0m\u001b[1;33m\u001b[0m\u001b[1;33m\u001b[0m\u001b[0m\n\u001b[0m\u001b[0;32m     67\u001b[0m                 \u001b[0minst\u001b[0m\u001b[1;33m.\u001b[0m\u001b[0mmachine\u001b[0m\u001b[1;33m.\u001b[0m\u001b[0mto_schedule\u001b[0m \u001b[1;33m=\u001b[0m \u001b[1;32mFalse\u001b[0m\u001b[1;33m\u001b[0m\u001b[1;33m\u001b[0m\u001b[0m\n",
      "\u001b[1;31mAttributeError\u001b[0m: 'NoneType' object has no attribute 'to_schedule'",
      "\nThe above exception was the direct cause of the following exception:\n",
      "\u001b[1;31mAttributeError\u001b[0m                            Traceback (most recent call last)",
      "\u001b[1;32m~\\AppData\\Local\\Temp/ipykernel_10636/3126936024.py\u001b[0m in \u001b[0;36m<module>\u001b[1;34m\u001b[0m\n\u001b[0;32m     21\u001b[0m \u001b[0minstance_configs\u001b[0m \u001b[1;33m=\u001b[0m \u001b[0mInstanceConfigLoader\u001b[0m\u001b[1;33m(\u001b[0m\u001b[0mwindowsFile\u001b[0m\u001b[1;33m,\u001b[0m\u001b[0minstance_number\u001b[0m\u001b[1;33m)\u001b[0m\u001b[1;33m\u001b[0m\u001b[1;33m\u001b[0m\u001b[0m\n\u001b[0;32m     22\u001b[0m \u001b[0msim\u001b[0m \u001b[1;33m=\u001b[0m \u001b[0mSimulation\u001b[0m\u001b[1;33m(\u001b[0m\u001b[0mmachine_configs\u001b[0m\u001b[1;33m,\u001b[0m \u001b[0minstance_configs\u001b[0m\u001b[1;33m,\u001b[0m \u001b[0mThresholdTrigger\u001b[0m\u001b[1;33m(\u001b[0m\u001b[1;33m)\u001b[0m\u001b[1;33m,\u001b[0m \u001b[0mThresholdFirstFitAlgorithm\u001b[0m\u001b[1;33m(\u001b[0m\u001b[1;33m)\u001b[0m\u001b[1;33m)\u001b[0m\u001b[1;33m\u001b[0m\u001b[1;33m\u001b[0m\u001b[0m\n\u001b[1;32m---> 23\u001b[1;33m \u001b[0msim\u001b[0m\u001b[1;33m.\u001b[0m\u001b[0mrun\u001b[0m\u001b[1;33m(\u001b[0m\u001b[1;33m)\u001b[0m\u001b[1;33m\u001b[0m\u001b[1;33m\u001b[0m\u001b[0m\n\u001b[0m\u001b[0;32m     24\u001b[0m \u001b[1;33m\u001b[0m\u001b[0m\n\u001b[0;32m     25\u001b[0m \u001b[1;31m#print(sim.cluster.structure)\u001b[0m\u001b[1;33m\u001b[0m\u001b[1;33m\u001b[0m\u001b[0m\n",
      "\u001b[1;32md:\\Data\\workplace\\Github\\scheduler\\test\\..\\framework\\simulation.py\u001b[0m in \u001b[0;36mrun\u001b[1;34m(self)\u001b[0m\n\u001b[0;32m     39\u001b[0m         \u001b[1;31m#self.env.process(self.monitor.run())\u001b[0m\u001b[1;33m\u001b[0m\u001b[1;33m\u001b[0m\u001b[0m\n\u001b[0;32m     40\u001b[0m         \u001b[0mself\u001b[0m\u001b[1;33m.\u001b[0m\u001b[0menv\u001b[0m\u001b[1;33m.\u001b[0m\u001b[0mprocess\u001b[0m\u001b[1;33m(\u001b[0m\u001b[0mself\u001b[0m\u001b[1;33m.\u001b[0m\u001b[0mscheduler\u001b[0m\u001b[1;33m.\u001b[0m\u001b[0mrun\u001b[0m\u001b[1;33m(\u001b[0m\u001b[1;33m)\u001b[0m\u001b[1;33m)\u001b[0m\u001b[1;33m\u001b[0m\u001b[1;33m\u001b[0m\u001b[0m\n\u001b[1;32m---> 41\u001b[1;33m         \u001b[0mself\u001b[0m\u001b[1;33m.\u001b[0m\u001b[0menv\u001b[0m\u001b[1;33m.\u001b[0m\u001b[0mrun\u001b[0m\u001b[1;33m(\u001b[0m\u001b[1;33m)\u001b[0m\u001b[1;33m\u001b[0m\u001b[1;33m\u001b[0m\u001b[0m\n\u001b[0m\u001b[0;32m     42\u001b[0m \u001b[1;33m\u001b[0m\u001b[0m\n\u001b[0;32m     43\u001b[0m     \u001b[1;33m@\u001b[0m\u001b[0mproperty\u001b[0m\u001b[1;33m\u001b[0m\u001b[1;33m\u001b[0m\u001b[0m\n",
      "\u001b[1;32mD:\\Program_Files\\anaconda\\lib\\site-packages\\simpy\\core.py\u001b[0m in \u001b[0;36mrun\u001b[1;34m(self, until)\u001b[0m\n\u001b[0;32m    252\u001b[0m         \u001b[1;32mtry\u001b[0m\u001b[1;33m:\u001b[0m\u001b[1;33m\u001b[0m\u001b[1;33m\u001b[0m\u001b[0m\n\u001b[0;32m    253\u001b[0m             \u001b[1;32mwhile\u001b[0m \u001b[1;32mTrue\u001b[0m\u001b[1;33m:\u001b[0m\u001b[1;33m\u001b[0m\u001b[1;33m\u001b[0m\u001b[0m\n\u001b[1;32m--> 254\u001b[1;33m                 \u001b[0mself\u001b[0m\u001b[1;33m.\u001b[0m\u001b[0mstep\u001b[0m\u001b[1;33m(\u001b[0m\u001b[1;33m)\u001b[0m\u001b[1;33m\u001b[0m\u001b[1;33m\u001b[0m\u001b[0m\n\u001b[0m\u001b[0;32m    255\u001b[0m         \u001b[1;32mexcept\u001b[0m \u001b[0mStopSimulation\u001b[0m \u001b[1;32mas\u001b[0m \u001b[0mexc\u001b[0m\u001b[1;33m:\u001b[0m\u001b[1;33m\u001b[0m\u001b[1;33m\u001b[0m\u001b[0m\n\u001b[0;32m    256\u001b[0m             \u001b[1;32mreturn\u001b[0m \u001b[0mexc\u001b[0m\u001b[1;33m.\u001b[0m\u001b[0margs\u001b[0m\u001b[1;33m[\u001b[0m\u001b[1;36m0\u001b[0m\u001b[1;33m]\u001b[0m  \u001b[1;31m# == until.value\u001b[0m\u001b[1;33m\u001b[0m\u001b[1;33m\u001b[0m\u001b[0m\n",
      "\u001b[1;32mD:\\Program_Files\\anaconda\\lib\\site-packages\\simpy\\core.py\u001b[0m in \u001b[0;36mstep\u001b[1;34m(self)\u001b[0m\n\u001b[0;32m    204\u001b[0m             \u001b[0mexc\u001b[0m \u001b[1;33m=\u001b[0m \u001b[0mtype\u001b[0m\u001b[1;33m(\u001b[0m\u001b[0mevent\u001b[0m\u001b[1;33m.\u001b[0m\u001b[0m_value\u001b[0m\u001b[1;33m)\u001b[0m\u001b[1;33m(\u001b[0m\u001b[1;33m*\u001b[0m\u001b[0mevent\u001b[0m\u001b[1;33m.\u001b[0m\u001b[0m_value\u001b[0m\u001b[1;33m.\u001b[0m\u001b[0margs\u001b[0m\u001b[1;33m)\u001b[0m\u001b[1;33m\u001b[0m\u001b[1;33m\u001b[0m\u001b[0m\n\u001b[0;32m    205\u001b[0m             \u001b[0mexc\u001b[0m\u001b[1;33m.\u001b[0m\u001b[0m__cause__\u001b[0m \u001b[1;33m=\u001b[0m \u001b[0mevent\u001b[0m\u001b[1;33m.\u001b[0m\u001b[0m_value\u001b[0m\u001b[1;33m\u001b[0m\u001b[1;33m\u001b[0m\u001b[0m\n\u001b[1;32m--> 206\u001b[1;33m             \u001b[1;32mraise\u001b[0m \u001b[0mexc\u001b[0m\u001b[1;33m\u001b[0m\u001b[1;33m\u001b[0m\u001b[0m\n\u001b[0m\u001b[0;32m    207\u001b[0m \u001b[1;33m\u001b[0m\u001b[0m\n\u001b[0;32m    208\u001b[0m     def run(\n",
      "\u001b[1;31mAttributeError\u001b[0m: 'NoneType' object has no attribute 'to_schedule'"
     ]
    }
   ],
   "source": [
    "\n",
    "import sys\n",
    "sys.path.append('..')\n",
    "\n",
    "from data.loader import InstanceConfigLoader\n",
    "from framework.algorithm import ThresholdFirstFitAlgorithm\n",
    "#from framework.instance import InstanceConfig\n",
    "from framework.machine import MachineConfig\n",
    "from framework.simulation import Simulation\n",
    "from framework.trigger import ThresholdTrigger\n",
    "\n",
    "import json\n",
    "\n",
    "instance_number = 20\n",
    "machine_number = int(instance_number/2+instance_number/4)\n",
    "machine_configs = []\n",
    "for id in range(machine_number):\n",
    "    machine = MachineConfig(id,300,20,20)\n",
    "    machine_configs.append(machine)\n",
    "macFile = '/Users/lsh/Documents/ecnuIcloud/Trace/alibaba_2018/intp_dir'\n",
    "windowsFile = 'D:\\Data\\workplace\\ecnuicloud\\Traces\\intp_dir\\\\'\n",
    "instance_configs = InstanceConfigLoader(windowsFile,instance_number)\n",
    "sim = Simulation(machine_configs, instance_configs, ThresholdTrigger(), ThresholdFirstFitAlgorithm())\n",
    "sim.run()\n",
    "\n",
    "#print(sim.cluster.structure)\n",
    "struct = sim.cluster.structure\n",
    "filename = 'D:\\\\Data\\\\workplace\\\\Github\\\\scheduler\\\\struct.json'\n",
    "with open(filename,'w') as file_job:\n",
    "    json.dump(struct,file_job)"
   ]
  }
 ],
 "metadata": {
  "interpreter": {
   "hash": "b26ffe065d98ea7a5273c6f6fba4ea3298940a306d2e17ef60b9693bc7ffaea0"
  },
  "kernelspec": {
   "display_name": "Python 3 (ipykernel)",
   "language": "python",
   "name": "python3"
  },
  "language_info": {
   "codemirror_mode": {
    "name": "ipython",
    "version": 3
   },
   "file_extension": ".py",
   "mimetype": "text/x-python",
   "name": "python",
   "nbconvert_exporter": "python",
   "pygments_lexer": "ipython3",
   "version": "3.7.12"
  },
  "orig_nbformat": 4
 },
 "nbformat": 4,
 "nbformat_minor": 2
}
