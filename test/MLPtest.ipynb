{
 "cells": [
  {
   "cell_type": "code",
   "execution_count": 1,
   "metadata": {},
   "outputs": [
    {
     "name": "stdout",
     "output_type": "stream",
     "text": [
      "0 , /hdd/jbinin/alibaba2018_data_extraction/data/hole/instanceid_70769.csv , 8639\n",
      "1 , /hdd/jbinin/alibaba2018_data_extraction/data/hole/instanceid_68923.csv , 8639\n",
      "2 , /hdd/jbinin/alibaba2018_data_extraction/data/hole/instanceid_55527.csv , 8639\n",
      "3 , /hdd/jbinin/alibaba2018_data_extraction/data/hole/instanceid_39415.csv , 8639\n"
     ]
    }
   ],
   "source": [
    "vm_file = '/hdd/jbinin/alibaba2018_data_extraction/data/hole'\n",
    "import os\n",
    "import pandas as pd\n",
    "def read_iterator(filepath,readNumPrecent=0.125):\n",
    "    cpulist = []\n",
    "    memlist = []\n",
    "    files = os.listdir(filepath)\n",
    "    n = int(69119*readNumPrecent)\n",
    "    for idx,file in enumerate(files):\n",
    "        if idx > 3:\n",
    "            break\n",
    "        filename = os.path.join(filepath, file)\n",
    "        with open(filename) as f:\n",
    "            cpus = pd.read_csv(f,iterator=True,header=None)\n",
    "            cpus = cpus.get_chunk(n)\n",
    "            cpu = cpus[0].values.squeeze().tolist()\n",
    "            mem = cpus[1].values.squeeze().tolist()\n",
    "            cpulist.append(cpu[:int(len(cpu)*readNumPrecent)])\n",
    "            memlist.append(mem[:int(len(mem)*readNumPrecent)])\n",
    "        print(idx,',',filename,',',n)\n",
    "    return cpulist,memlist\n",
    "cpus = read_iterator(vm_file)\n"
   ]
  },
  {
   "cell_type": "code",
   "execution_count": 12,
   "metadata": {},
   "outputs": [
    {
     "name": "stdout",
     "output_type": "stream",
     "text": [
      "1079\n"
     ]
    }
   ],
   "source": [
    "print( len(cpus[0][0][100:111]))"
   ]
  },
  {
   "cell_type": "code",
   "execution_count": 15,
   "metadata": {},
   "outputs": [
    {
     "name": "stdout",
     "output_type": "stream",
     "text": [
      "[0.0, 0.0, 0.08, 0.08, 0.0, 0.0, 0.08, 0.0, 0.08, 0.08, 0.0]\n",
      "(7, 3) (7, 2)\n",
      "[0.   0.   0.08] [0.08 0.  ]\n",
      "[0.   0.08 0.08] [0. 0.]\n",
      "[0.08 0.08 0.  ] [0.   0.08]\n",
      "[0.08 0.   0.  ] [0.08 0.  ]\n",
      "[0.   0.   0.08] [0.   0.08]\n",
      "[0.   0.08 0.  ] [0.08 0.08]\n",
      "[0.08 0.   0.08] [0.08 0.  ]\n",
      "[[-62.489918 -25.795572]]\n"
     ]
    }
   ],
   "source": [
    "from tensorflow.keras.models import Sequential\n",
    "from tensorflow.keras.layers import Dense\n",
    "import numpy as np\n",
    "\n",
    "def split_sequence(sequence, m_steps_in, n_steps_out):\n",
    "    X, y = [], []\n",
    "    for i in range(len(sequence)):\n",
    "\n",
    "        end_element_index = i + n_steps_in\n",
    "        out_end_index = end_element_index + n_steps_out\n",
    "        if out_end_index > len(sequence): \n",
    "            break\n",
    "        \n",
    "        sequence_x, sequence_y = sequence[i:end_element_index], sequence[end_element_index:out_end_index]\n",
    "        X.append(sequence_x)\n",
    "        y.append(sequence_y)\n",
    "\n",
    "    return np.array(X), np.array(y)\n",
    "\n",
    "def vector_output_model(n_steps_in, n_steps_out, X, y, epochs_num):\n",
    "    model = Sequential()\n",
    "    model.add(Dense(100, activation='relu', input_dim=n_steps_in))\n",
    "    model.add(Dense(n_steps_out))\n",
    "    model.compile(optimizer='adam', loss='mse')\n",
    "    \n",
    "    model.fit(X, y, epochs=2000, verbose=0)\n",
    "    return model\n",
    "\n",
    "\n",
    "epochs_num = 2000\n",
    "n_steps_in, n_steps_out = 3, 2\n",
    "\n",
    "raw_seq = [10, 20, 30, 40, 50, 60, 70, 80, 90]\n",
    "raw_seq = cpus[0][0][100:111]\n",
    "print(raw_seq)\n",
    "X, y = split_sequence(raw_seq, n_steps_in, n_steps_out)\n",
    "\n",
    "print(X.shape, y.shape)\n",
    "for i in range(len(X)):\n",
    "    print(X[i], y[i])\n",
    "\n",
    "model = vector_output_model(n_steps_in, n_steps_out, X, y, epochs_num)\n",
    "\n",
    "x_input = np.array([70, 80, 90])\n",
    "x_input = x_input.reshape((1, n_steps_in))\n",
    "yhat = model.predict(x_input, verbose=0)\n",
    "print(yhat)\n"
   ]
  }
 ],
 "metadata": {
  "kernelspec": {
   "display_name": "Python 3 (ipykernel)",
   "language": "python",
   "name": "python3"
  },
  "orig_nbformat": 4
 },
 "nbformat": 4,
 "nbformat_minor": 2
}
